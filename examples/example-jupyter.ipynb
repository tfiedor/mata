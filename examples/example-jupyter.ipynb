{
 "cells": [
  {
   "cell_type": "code",
   "execution_count": 6,
   "id": "f41475c7",
   "metadata": {},
   "outputs": [],
   "source": [
    "import mata\n",
    "from IPython.display import SVG"
   ]
  },
  {
   "cell_type": "code",
   "execution_count": 2,
   "id": "0950a0dc",
   "metadata": {},
   "outputs": [],
   "source": [
    "enum_alphabet = mata.EnumAlphabet(['red', 'blue', 'yellow', 'black', 'white'])"
   ]
  },
  {
   "cell_type": "code",
   "execution_count": 3,
   "id": "52d453b0",
   "metadata": {},
   "outputs": [],
   "source": [
    "lhs = mata.Nfa(3, enum_alphabet)\n",
    "lhs.add_initial_state(0)\n",
    "lhs.add_trans_raw(0, enum_alphabet.translate_symbol('red'), 1)\n",
    "lhs.add_trans_raw(0, enum_alphabet.translate_symbol('yellow'), 1)\n",
    "lhs.add_trans_raw(1, enum_alphabet.translate_symbol('blue'), 2)\n",
    "lhs.add_trans_raw(1, enum_alphabet.translate_symbol('black'), 2)\n",
    "lhs.add_final_state(2)"
   ]
  },
  {
   "cell_type": "code",
   "execution_count": 7,
   "id": "45eafb69",
   "metadata": {},
   "outputs": [
    {
     "data": {
      "image/svg+xml": [
       "<svg xmlns=\"http://www.w3.org/2000/svg\" xmlns:xlink=\"http://www.w3.org/1999/xlink\" width=\"62pt\" height=\"299pt\" viewBox=\"0.00 0.00 62.00 299.00\">\n",
       "<g id=\"graph0\" class=\"graph\" transform=\"scale(1 1) rotate(0) translate(4 295)\">\n",
       "<title>finiteAutomaton</title>\n",
       "<polygon fill=\"white\" stroke=\"transparent\" points=\"-4,4 -4,-295 58,-295 58,4 -4,4\"/>\n",
       "<!-- 2 -->\n",
       "<g id=\"node1\" class=\"node\">\n",
       "<title>2</title>\n",
       "<ellipse fill=\"none\" stroke=\"black\" cx=\"27\" cy=\"-22\" rx=\"18\" ry=\"18\"/>\n",
       "<ellipse fill=\"none\" stroke=\"black\" cx=\"27\" cy=\"-22\" rx=\"22\" ry=\"22\"/>\n",
       "<text text-anchor=\"middle\" x=\"27\" y=\"-18.3\" font-family=\"Times,serif\" font-size=\"14.00\">2</text>\n",
       "</g>\n",
       "<!-- 0 -->\n",
       "<g id=\"node2\" class=\"node\">\n",
       "<title>0</title>\n",
       "<ellipse fill=\"none\" stroke=\"black\" cx=\"27\" cy=\"-200\" rx=\"18\" ry=\"18\"/>\n",
       "<text text-anchor=\"middle\" x=\"27\" y=\"-196.3\" font-family=\"Times,serif\" font-size=\"14.00\">0</text>\n",
       "</g>\n",
       "<!-- 1 -->\n",
       "<g id=\"node3\" class=\"node\">\n",
       "<title>1</title>\n",
       "<ellipse fill=\"none\" stroke=\"black\" cx=\"27\" cy=\"-113\" rx=\"18\" ry=\"18\"/>\n",
       "<text text-anchor=\"middle\" x=\"27\" y=\"-109.3\" font-family=\"Times,serif\" font-size=\"14.00\">1</text>\n",
       "</g>\n",
       "<!-- 0&#45;&gt;1 -->\n",
       "<g id=\"edge1\" class=\"edge\">\n",
       "<title>0-&gt;1</title>\n",
       "<path fill=\"none\" stroke=\"black\" d=\"M18.88,-183.76C16.12,-177.77 13.38,-170.73 12,-164 10.28,-155.64 11.86,-146.66 14.54,-138.65\"/>\n",
       "<polygon fill=\"black\" stroke=\"black\" points=\"17.88,-139.72 18.36,-129.14 11.39,-137.11 17.88,-139.72\"/>\n",
       "<text text-anchor=\"middle\" x=\"17\" y=\"-152.8\" font-family=\"Times,serif\" font-size=\"14.00\">0</text>\n",
       "</g>\n",
       "<!-- 0&#45;&gt;1 -->\n",
       "<g id=\"edge2\" class=\"edge\">\n",
       "<title>0-&gt;1</title>\n",
       "<path fill=\"none\" stroke=\"black\" d=\"M27,-181.8C27,-170.16 27,-154.55 27,-141.24\"/>\n",
       "<polygon fill=\"black\" stroke=\"black\" points=\"30.5,-141.18 27,-131.18 23.5,-141.18 30.5,-141.18\"/>\n",
       "<text text-anchor=\"middle\" x=\"32\" y=\"-152.8\" font-family=\"Times,serif\" font-size=\"14.00\">2</text>\n",
       "</g>\n",
       "<!-- 1&#45;&gt;2 -->\n",
       "<g id=\"edge3\" class=\"edge\">\n",
       "<title>1-&gt;2</title>\n",
       "<path fill=\"none\" stroke=\"black\" d=\"M18.88,-96.76C16.12,-90.77 13.38,-83.73 12,-77 10.28,-68.6 11.52,-59.58 13.89,-51.36\"/>\n",
       "<polygon fill=\"black\" stroke=\"black\" points=\"17.22,-52.43 17.21,-41.84 10.61,-50.13 17.22,-52.43\"/>\n",
       "<text text-anchor=\"middle\" x=\"17\" y=\"-65.8\" font-family=\"Times,serif\" font-size=\"14.00\">1</text>\n",
       "</g>\n",
       "<!-- 1&#45;&gt;2 -->\n",
       "<g id=\"edge4\" class=\"edge\">\n",
       "<title>1-&gt;2</title>\n",
       "<path fill=\"none\" stroke=\"black\" d=\"M27,-94.84C27,-83.44 27,-68.13 27,-54.58\"/>\n",
       "<polygon fill=\"black\" stroke=\"black\" points=\"30.5,-54.19 27,-44.19 23.5,-54.19 30.5,-54.19\"/>\n",
       "<text text-anchor=\"middle\" x=\"32\" y=\"-65.8\" font-family=\"Times,serif\" font-size=\"14.00\">3</text>\n",
       "</g>\n",
       "<!-- i0 -->\n",
       "<g id=\"node4\" class=\"node\">\n",
       "<title>i0</title>\n",
       "</g>\n",
       "<!-- i0&#45;&gt;0 -->\n",
       "<g id=\"edge5\" class=\"edge\">\n",
       "<title>i0-&gt;0</title>\n",
       "<path fill=\"none\" stroke=\"black\" d=\"M27,-254.81C27,-246.79 27,-237.05 27,-228.07\"/>\n",
       "<polygon fill=\"black\" stroke=\"black\" points=\"30.5,-228.03 27,-218.03 23.5,-228.03 30.5,-228.03\"/>\n",
       "</g>\n",
       "</g>\n",
       "</svg>"
      ],
      "text/plain": [
       "<IPython.core.display.SVG object>"
      ]
     },
     "execution_count": 7,
     "metadata": {},
     "output_type": "execute_result"
    }
   ],
   "source": [
    "lhs.to_dot_file('lhs', 'svg')\n",
    "SVG(filename=\"./lhs.svg\")"
   ]
  },
  {
   "cell_type": "code",
   "execution_count": 9,
   "id": "500b6508",
   "metadata": {},
   "outputs": [],
   "source": [
    "rhs = mata.Nfa(3, enum_alphabet)\n",
    "rhs.add_initial_state(0)\n",
    "rhs.add_trans_raw(0, enum_alphabet.translate_symbol('white'), 1)\n",
    "rhs.add_trans_raw(0, enum_alphabet.translate_symbol('yellow'), 1)\n",
    "rhs.add_trans_raw(1, enum_alphabet.translate_symbol('blue'), 2)\n",
    "rhs.add_trans_raw(1, enum_alphabet.translate_symbol('red'), 2)\n",
    "rhs.add_final_state(2)"
   ]
  },
  {
   "cell_type": "code",
   "execution_count": 10,
   "id": "a5017092",
   "metadata": {},
   "outputs": [
    {
     "data": {
      "image/svg+xml": [
       "<svg xmlns=\"http://www.w3.org/2000/svg\" xmlns:xlink=\"http://www.w3.org/1999/xlink\" width=\"62pt\" height=\"299pt\" viewBox=\"0.00 0.00 62.00 299.00\">\n",
       "<g id=\"graph0\" class=\"graph\" transform=\"scale(1 1) rotate(0) translate(4 295)\">\n",
       "<title>finiteAutomaton</title>\n",
       "<polygon fill=\"white\" stroke=\"transparent\" points=\"-4,4 -4,-295 58,-295 58,4 -4,4\"/>\n",
       "<!-- 2 -->\n",
       "<g id=\"node1\" class=\"node\">\n",
       "<title>2</title>\n",
       "<ellipse fill=\"none\" stroke=\"black\" cx=\"27\" cy=\"-22\" rx=\"18\" ry=\"18\"/>\n",
       "<ellipse fill=\"none\" stroke=\"black\" cx=\"27\" cy=\"-22\" rx=\"22\" ry=\"22\"/>\n",
       "<text text-anchor=\"middle\" x=\"27\" y=\"-18.3\" font-family=\"Times,serif\" font-size=\"14.00\">2</text>\n",
       "</g>\n",
       "<!-- 0 -->\n",
       "<g id=\"node2\" class=\"node\">\n",
       "<title>0</title>\n",
       "<ellipse fill=\"none\" stroke=\"black\" cx=\"27\" cy=\"-200\" rx=\"18\" ry=\"18\"/>\n",
       "<text text-anchor=\"middle\" x=\"27\" y=\"-196.3\" font-family=\"Times,serif\" font-size=\"14.00\">0</text>\n",
       "</g>\n",
       "<!-- 1 -->\n",
       "<g id=\"node3\" class=\"node\">\n",
       "<title>1</title>\n",
       "<ellipse fill=\"none\" stroke=\"black\" cx=\"27\" cy=\"-113\" rx=\"18\" ry=\"18\"/>\n",
       "<text text-anchor=\"middle\" x=\"27\" y=\"-109.3\" font-family=\"Times,serif\" font-size=\"14.00\">1</text>\n",
       "</g>\n",
       "<!-- 0&#45;&gt;1 -->\n",
       "<g id=\"edge1\" class=\"edge\">\n",
       "<title>0-&gt;1</title>\n",
       "<path fill=\"none\" stroke=\"black\" d=\"M18.88,-183.76C16.12,-177.77 13.38,-170.73 12,-164 10.28,-155.64 11.86,-146.66 14.54,-138.65\"/>\n",
       "<polygon fill=\"black\" stroke=\"black\" points=\"17.88,-139.72 18.36,-129.14 11.39,-137.11 17.88,-139.72\"/>\n",
       "<text text-anchor=\"middle\" x=\"17\" y=\"-152.8\" font-family=\"Times,serif\" font-size=\"14.00\">2</text>\n",
       "</g>\n",
       "<!-- 0&#45;&gt;1 -->\n",
       "<g id=\"edge2\" class=\"edge\">\n",
       "<title>0-&gt;1</title>\n",
       "<path fill=\"none\" stroke=\"black\" d=\"M27,-181.8C27,-170.16 27,-154.55 27,-141.24\"/>\n",
       "<polygon fill=\"black\" stroke=\"black\" points=\"30.5,-141.18 27,-131.18 23.5,-141.18 30.5,-141.18\"/>\n",
       "<text text-anchor=\"middle\" x=\"32\" y=\"-152.8\" font-family=\"Times,serif\" font-size=\"14.00\">4</text>\n",
       "</g>\n",
       "<!-- 1&#45;&gt;2 -->\n",
       "<g id=\"edge3\" class=\"edge\">\n",
       "<title>1-&gt;2</title>\n",
       "<path fill=\"none\" stroke=\"black\" d=\"M18.88,-96.76C16.12,-90.77 13.38,-83.73 12,-77 10.28,-68.6 11.52,-59.58 13.89,-51.36\"/>\n",
       "<polygon fill=\"black\" stroke=\"black\" points=\"17.22,-52.43 17.21,-41.84 10.61,-50.13 17.22,-52.43\"/>\n",
       "<text text-anchor=\"middle\" x=\"17\" y=\"-65.8\" font-family=\"Times,serif\" font-size=\"14.00\">0</text>\n",
       "</g>\n",
       "<!-- 1&#45;&gt;2 -->\n",
       "<g id=\"edge4\" class=\"edge\">\n",
       "<title>1-&gt;2</title>\n",
       "<path fill=\"none\" stroke=\"black\" d=\"M27,-94.84C27,-83.44 27,-68.13 27,-54.58\"/>\n",
       "<polygon fill=\"black\" stroke=\"black\" points=\"30.5,-54.19 27,-44.19 23.5,-54.19 30.5,-54.19\"/>\n",
       "<text text-anchor=\"middle\" x=\"32\" y=\"-65.8\" font-family=\"Times,serif\" font-size=\"14.00\">1</text>\n",
       "</g>\n",
       "<!-- i0 -->\n",
       "<g id=\"node4\" class=\"node\">\n",
       "<title>i0</title>\n",
       "</g>\n",
       "<!-- i0&#45;&gt;0 -->\n",
       "<g id=\"edge5\" class=\"edge\">\n",
       "<title>i0-&gt;0</title>\n",
       "<path fill=\"none\" stroke=\"black\" d=\"M27,-254.81C27,-246.79 27,-237.05 27,-228.07\"/>\n",
       "<polygon fill=\"black\" stroke=\"black\" points=\"30.5,-228.03 27,-218.03 23.5,-228.03 30.5,-228.03\"/>\n",
       "</g>\n",
       "</g>\n",
       "</svg>"
      ],
      "text/plain": [
       "<IPython.core.display.SVG object>"
      ]
     },
     "execution_count": 10,
     "metadata": {},
     "output_type": "execute_result"
    }
   ],
   "source": [
    "rhs.to_dot_file('rhs', 'svg')\n",
    "SVG(filename=\"./rhs.svg\")"
   ]
  },
  {
   "cell_type": "code",
   "execution_count": 13,
   "id": "85acd260",
   "metadata": {},
   "outputs": [],
   "source": [
    "union = mata.Nfa.union(lhs, rhs)"
   ]
  },
  {
   "cell_type": "code",
   "execution_count": 14,
   "id": "e5c2bc57",
   "metadata": {},
   "outputs": [
    {
     "data": {
      "image/svg+xml": [
       "<svg xmlns=\"http://www.w3.org/2000/svg\" xmlns:xlink=\"http://www.w3.org/1999/xlink\" width=\"149pt\" height=\"299pt\" viewBox=\"0.00 0.00 149.00 299.00\">\n",
       "<g id=\"graph0\" class=\"graph\" transform=\"scale(1 1) rotate(0) translate(4 295)\">\n",
       "<title>finiteAutomaton</title>\n",
       "<polygon fill=\"white\" stroke=\"transparent\" points=\"-4,4 -4,-295 145,-295 145,4 -4,4\"/>\n",
       "<!-- 2 -->\n",
       "<g id=\"node1\" class=\"node\">\n",
       "<title>2</title>\n",
       "<ellipse fill=\"none\" stroke=\"black\" cx=\"55\" cy=\"-22\" rx=\"18\" ry=\"18\"/>\n",
       "<ellipse fill=\"none\" stroke=\"black\" cx=\"55\" cy=\"-22\" rx=\"22\" ry=\"22\"/>\n",
       "<text text-anchor=\"middle\" x=\"55\" y=\"-18.3\" font-family=\"Times,serif\" font-size=\"14.00\">2</text>\n",
       "</g>\n",
       "<!-- 5 -->\n",
       "<g id=\"node2\" class=\"node\">\n",
       "<title>5</title>\n",
       "<ellipse fill=\"none\" stroke=\"black\" cx=\"119\" cy=\"-22\" rx=\"18\" ry=\"18\"/>\n",
       "<ellipse fill=\"none\" stroke=\"black\" cx=\"119\" cy=\"-22\" rx=\"22\" ry=\"22\"/>\n",
       "<text text-anchor=\"middle\" x=\"119\" y=\"-18.3\" font-family=\"Times,serif\" font-size=\"14.00\">5</text>\n",
       "</g>\n",
       "<!-- 0 -->\n",
       "<g id=\"node3\" class=\"node\">\n",
       "<title>0</title>\n",
       "<ellipse fill=\"none\" stroke=\"black\" cx=\"27\" cy=\"-200\" rx=\"18\" ry=\"18\"/>\n",
       "<text text-anchor=\"middle\" x=\"27\" y=\"-196.3\" font-family=\"Times,serif\" font-size=\"14.00\">0</text>\n",
       "</g>\n",
       "<!-- 1 -->\n",
       "<g id=\"node4\" class=\"node\">\n",
       "<title>1</title>\n",
       "<ellipse fill=\"none\" stroke=\"black\" cx=\"36\" cy=\"-113\" rx=\"18\" ry=\"18\"/>\n",
       "<text text-anchor=\"middle\" x=\"36\" y=\"-109.3\" font-family=\"Times,serif\" font-size=\"14.00\">1</text>\n",
       "</g>\n",
       "<!-- 0&#45;&gt;1 -->\n",
       "<g id=\"edge1\" class=\"edge\">\n",
       "<title>0-&gt;1</title>\n",
       "<path fill=\"none\" stroke=\"black\" d=\"M19.25,-183.61C15.24,-173.69 11.81,-160.53 15,-149 16.17,-144.77 18,-140.55 20.11,-136.57\"/>\n",
       "<polygon fill=\"black\" stroke=\"black\" points=\"23.2,-138.22 25.33,-127.84 17.19,-134.62 23.2,-138.22\"/>\n",
       "<text text-anchor=\"middle\" x=\"20\" y=\"-152.8\" font-family=\"Times,serif\" font-size=\"14.00\">2</text>\n",
       "</g>\n",
       "<!-- 0&#45;&gt;1 -->\n",
       "<g id=\"edge2\" class=\"edge\">\n",
       "<title>0-&gt;1</title>\n",
       "<path fill=\"none\" stroke=\"black\" d=\"M28.82,-181.8C30.05,-170.16 31.71,-154.55 33.12,-141.24\"/>\n",
       "<polygon fill=\"black\" stroke=\"black\" points=\"36.61,-141.49 34.18,-131.18 29.65,-140.75 36.61,-141.49\"/>\n",
       "<text text-anchor=\"middle\" x=\"38\" y=\"-152.8\" font-family=\"Times,serif\" font-size=\"14.00\">4</text>\n",
       "</g>\n",
       "<!-- 1&#45;&gt;2 -->\n",
       "<g id=\"edge3\" class=\"edge\">\n",
       "<title>1-&gt;2</title>\n",
       "<path fill=\"none\" stroke=\"black\" d=\"M31.31,-95.52C29.25,-85.64 27.91,-72.91 31,-62 32.28,-57.49 34.24,-52.99 36.5,-48.73\"/>\n",
       "<polygon fill=\"black\" stroke=\"black\" points=\"39.66,-50.27 41.79,-39.89 33.65,-46.67 39.66,-50.27\"/>\n",
       "<text text-anchor=\"middle\" x=\"36\" y=\"-65.8\" font-family=\"Times,serif\" font-size=\"14.00\">0</text>\n",
       "</g>\n",
       "<!-- 1&#45;&gt;2 -->\n",
       "<g id=\"edge4\" class=\"edge\">\n",
       "<title>1-&gt;2</title>\n",
       "<path fill=\"none\" stroke=\"black\" d=\"M39.57,-95.26C42.06,-83.62 45.44,-67.77 48.41,-53.88\"/>\n",
       "<polygon fill=\"black\" stroke=\"black\" points=\"51.91,-54.25 50.57,-43.74 45.06,-52.79 51.91,-54.25\"/>\n",
       "<text text-anchor=\"middle\" x=\"52\" y=\"-65.8\" font-family=\"Times,serif\" font-size=\"14.00\">1</text>\n",
       "</g>\n",
       "<!-- 3 -->\n",
       "<g id=\"node5\" class=\"node\">\n",
       "<title>3</title>\n",
       "<ellipse fill=\"none\" stroke=\"black\" cx=\"109\" cy=\"-200\" rx=\"18\" ry=\"18\"/>\n",
       "<text text-anchor=\"middle\" x=\"109\" y=\"-196.3\" font-family=\"Times,serif\" font-size=\"14.00\">3</text>\n",
       "</g>\n",
       "<!-- 4 -->\n",
       "<g id=\"node6\" class=\"node\">\n",
       "<title>4</title>\n",
       "<ellipse fill=\"none\" stroke=\"black\" cx=\"112\" cy=\"-113\" rx=\"18\" ry=\"18\"/>\n",
       "<text text-anchor=\"middle\" x=\"112\" y=\"-109.3\" font-family=\"Times,serif\" font-size=\"14.00\">4</text>\n",
       "</g>\n",
       "<!-- 3&#45;&gt;4 -->\n",
       "<g id=\"edge5\" class=\"edge\">\n",
       "<title>3-&gt;4</title>\n",
       "<path fill=\"none\" stroke=\"black\" d=\"M103.72,-182.34C101.29,-172.62 99.29,-160.12 101,-149 101.45,-146.05 102.11,-143.01 102.88,-140\"/>\n",
       "<polygon fill=\"black\" stroke=\"black\" points=\"106.32,-140.72 105.8,-130.14 99.6,-138.73 106.32,-140.72\"/>\n",
       "<text text-anchor=\"middle\" x=\"106\" y=\"-152.8\" font-family=\"Times,serif\" font-size=\"14.00\">0</text>\n",
       "</g>\n",
       "<!-- 3&#45;&gt;4 -->\n",
       "<g id=\"edge6\" class=\"edge\">\n",
       "<title>3-&gt;4</title>\n",
       "<path fill=\"none\" stroke=\"black\" d=\"M110.1,-181.92C110.44,-176.22 110.77,-169.84 111,-164 111.28,-156.66 111.49,-148.7 111.64,-141.34\"/>\n",
       "<polygon fill=\"black\" stroke=\"black\" points=\"115.14,-141.19 111.81,-131.13 108.14,-141.07 115.14,-141.19\"/>\n",
       "<text text-anchor=\"middle\" x=\"116\" y=\"-152.8\" font-family=\"Times,serif\" font-size=\"14.00\">2</text>\n",
       "</g>\n",
       "<!-- 4&#45;&gt;5 -->\n",
       "<g id=\"edge7\" class=\"edge\">\n",
       "<title>4-&gt;5</title>\n",
       "<path fill=\"none\" stroke=\"black\" d=\"M107.06,-95.29C104.83,-85.55 103.08,-73.05 105,-62 105.57,-58.74 106.38,-55.39 107.34,-52.09\"/>\n",
       "<polygon fill=\"black\" stroke=\"black\" points=\"110.7,-53.08 110.52,-42.48 104.06,-50.87 110.7,-53.08\"/>\n",
       "<text text-anchor=\"middle\" x=\"110\" y=\"-65.8\" font-family=\"Times,serif\" font-size=\"14.00\">1</text>\n",
       "</g>\n",
       "<!-- 4&#45;&gt;5 -->\n",
       "<g id=\"edge8\" class=\"edge\">\n",
       "<title>4-&gt;5</title>\n",
       "<path fill=\"none\" stroke=\"black\" d=\"M113.5,-94.91C114,-89.22 114.53,-82.84 115,-77 115.59,-69.61 116.2,-61.65 116.75,-54.17\"/>\n",
       "<polygon fill=\"black\" stroke=\"black\" points=\"120.26,-54.26 117.5,-44.03 113.27,-53.75 120.26,-54.26\"/>\n",
       "<text text-anchor=\"middle\" x=\"121\" y=\"-65.8\" font-family=\"Times,serif\" font-size=\"14.00\">3</text>\n",
       "</g>\n",
       "<!-- i0 -->\n",
       "<g id=\"node7\" class=\"node\">\n",
       "<title>i0</title>\n",
       "</g>\n",
       "<!-- i0&#45;&gt;0 -->\n",
       "<g id=\"edge9\" class=\"edge\">\n",
       "<title>i0-&gt;0</title>\n",
       "<path fill=\"none\" stroke=\"black\" d=\"M27,-254.81C27,-246.79 27,-237.05 27,-228.07\"/>\n",
       "<polygon fill=\"black\" stroke=\"black\" points=\"30.5,-228.03 27,-218.03 23.5,-228.03 30.5,-228.03\"/>\n",
       "</g>\n",
       "<!-- i3 -->\n",
       "<g id=\"node8\" class=\"node\">\n",
       "<title>i3</title>\n",
       "</g>\n",
       "<!-- i3&#45;&gt;3 -->\n",
       "<g id=\"edge10\" class=\"edge\">\n",
       "<title>i3-&gt;3</title>\n",
       "<path fill=\"none\" stroke=\"black\" d=\"M109,-254.81C109,-246.79 109,-237.05 109,-228.07\"/>\n",
       "<polygon fill=\"black\" stroke=\"black\" points=\"112.5,-228.03 109,-218.03 105.5,-228.03 112.5,-228.03\"/>\n",
       "</g>\n",
       "</g>\n",
       "</svg>"
      ],
      "text/plain": [
       "<IPython.core.display.SVG object>"
      ]
     },
     "execution_count": 14,
     "metadata": {},
     "output_type": "execute_result"
    }
   ],
   "source": [
    "union.to_dot_file('union', 'svg')\n",
    "SVG(filename=\"./union.svg\")"
   ]
  },
  {
   "cell_type": "code",
   "execution_count": 15,
   "id": "d1c8b052",
   "metadata": {},
   "outputs": [
    {
     "data": {
      "text/plain": [
       "{(2, 2): 2, (1, 1): 1, (0, 0): 0}"
      ]
     },
     "execution_count": 15,
     "metadata": {},
     "output_type": "execute_result"
    }
   ],
   "source": [
    "intersection, product_map = mata.Nfa.intersection(lhs, rhs)\n",
    "product_map"
   ]
  },
  {
   "cell_type": "code",
   "execution_count": 16,
   "id": "a528c6c0",
   "metadata": {
    "scrolled": true
   },
   "outputs": [
    {
     "data": {
      "image/svg+xml": [
       "<svg xmlns=\"http://www.w3.org/2000/svg\" xmlns:xlink=\"http://www.w3.org/1999/xlink\" width=\"62pt\" height=\"299pt\" viewBox=\"0.00 0.00 62.00 299.00\">\n",
       "<g id=\"graph0\" class=\"graph\" transform=\"scale(1 1) rotate(0) translate(4 295)\">\n",
       "<title>finiteAutomaton</title>\n",
       "<polygon fill=\"white\" stroke=\"transparent\" points=\"-4,4 -4,-295 58,-295 58,4 -4,4\"/>\n",
       "<!-- 2 -->\n",
       "<g id=\"node1\" class=\"node\">\n",
       "<title>2</title>\n",
       "<ellipse fill=\"none\" stroke=\"black\" cx=\"27\" cy=\"-22\" rx=\"18\" ry=\"18\"/>\n",
       "<ellipse fill=\"none\" stroke=\"black\" cx=\"27\" cy=\"-22\" rx=\"22\" ry=\"22\"/>\n",
       "<text text-anchor=\"middle\" x=\"27\" y=\"-18.3\" font-family=\"Times,serif\" font-size=\"14.00\">2</text>\n",
       "</g>\n",
       "<!-- 0 -->\n",
       "<g id=\"node2\" class=\"node\">\n",
       "<title>0</title>\n",
       "<ellipse fill=\"none\" stroke=\"black\" cx=\"27\" cy=\"-200\" rx=\"18\" ry=\"18\"/>\n",
       "<text text-anchor=\"middle\" x=\"27\" y=\"-196.3\" font-family=\"Times,serif\" font-size=\"14.00\">0</text>\n",
       "</g>\n",
       "<!-- 1 -->\n",
       "<g id=\"node3\" class=\"node\">\n",
       "<title>1</title>\n",
       "<ellipse fill=\"none\" stroke=\"black\" cx=\"27\" cy=\"-113\" rx=\"18\" ry=\"18\"/>\n",
       "<text text-anchor=\"middle\" x=\"27\" y=\"-109.3\" font-family=\"Times,serif\" font-size=\"14.00\">1</text>\n",
       "</g>\n",
       "<!-- 0&#45;&gt;1 -->\n",
       "<g id=\"edge1\" class=\"edge\">\n",
       "<title>0-&gt;1</title>\n",
       "<path fill=\"none\" stroke=\"black\" d=\"M27,-181.8C27,-170.16 27,-154.55 27,-141.24\"/>\n",
       "<polygon fill=\"black\" stroke=\"black\" points=\"30.5,-141.18 27,-131.18 23.5,-141.18 30.5,-141.18\"/>\n",
       "<text text-anchor=\"middle\" x=\"32\" y=\"-152.8\" font-family=\"Times,serif\" font-size=\"14.00\">2</text>\n",
       "</g>\n",
       "<!-- 1&#45;&gt;2 -->\n",
       "<g id=\"edge2\" class=\"edge\">\n",
       "<title>1-&gt;2</title>\n",
       "<path fill=\"none\" stroke=\"black\" d=\"M27,-94.84C27,-83.44 27,-68.13 27,-54.58\"/>\n",
       "<polygon fill=\"black\" stroke=\"black\" points=\"30.5,-54.19 27,-44.19 23.5,-54.19 30.5,-54.19\"/>\n",
       "<text text-anchor=\"middle\" x=\"32\" y=\"-65.8\" font-family=\"Times,serif\" font-size=\"14.00\">1</text>\n",
       "</g>\n",
       "<!-- i0 -->\n",
       "<g id=\"node4\" class=\"node\">\n",
       "<title>i0</title>\n",
       "</g>\n",
       "<!-- i0&#45;&gt;0 -->\n",
       "<g id=\"edge3\" class=\"edge\">\n",
       "<title>i0-&gt;0</title>\n",
       "<path fill=\"none\" stroke=\"black\" d=\"M27,-254.81C27,-246.79 27,-237.05 27,-228.07\"/>\n",
       "<polygon fill=\"black\" stroke=\"black\" points=\"30.5,-228.03 27,-218.03 23.5,-228.03 30.5,-228.03\"/>\n",
       "</g>\n",
       "</g>\n",
       "</svg>"
      ],
      "text/plain": [
       "<IPython.core.display.SVG object>"
      ]
     },
     "execution_count": 16,
     "metadata": {},
     "output_type": "execute_result"
    }
   ],
   "source": [
    "intersection.to_dot_file('intersection', 'svg')\n",
    "SVG(\"./intersection.svg\")"
   ]
  }
 ],
 "metadata": {
  "kernelspec": {
   "display_name": "Python 3 (ipykernel)",
   "language": "python",
   "name": "python3"
  },
  "language_info": {
   "codemirror_mode": {
    "name": "ipython",
    "version": 3
   },
   "file_extension": ".py",
   "mimetype": "text/x-python",
   "name": "python",
   "nbconvert_exporter": "python",
   "pygments_lexer": "ipython3",
   "version": "3.8.10"
  }
 },
 "nbformat": 4,
 "nbformat_minor": 5
}
